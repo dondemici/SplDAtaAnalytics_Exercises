{
 "cells": [
  {
   "cell_type": "markdown",
   "id": "bed29e2b-658f-4ee7-b0c1-18b9e59e1ced",
   "metadata": {},
   "source": [
    "### Question 1\n",
    "\n",
    "a. Compute the mean and median. Which measure better represents the central tendency in this case? \n",
    "- For this dataset, mean is greater than median, which means that data is right skewed. Since data is not symmetrical, median is the better measure."
   ]
  },
  {
   "cell_type": "code",
   "execution_count": 5,
   "id": "883c44d0-ff23-448f-8c6a-a039a00a36d9",
   "metadata": {
    "scrolled": true
   },
   "outputs": [
    {
     "name": "stdout",
     "output_type": "stream",
     "text": [
      "Dataset:  [4, 8, 19, 24, 27, 34, 36, 37, 38, 43, 50, 58, 59, 68, 74, 84, 90, 92, 94, 99]\n",
      "Mean: 51.9\n",
      "Median: 46.5\n"
     ]
    }
   ],
   "source": [
    "import statistics\n",
    "import random\n",
    "\n",
    "data0 = list(range(1,100))\n",
    "data1 = random.sample(data0, 20)\n",
    "\n",
    "mean1 = statistics.mean(data1)\n",
    "median1 = statistics.median(data1)\n",
    "\n",
    "print(\"Dataset: \", sorted(data1))\n",
    "print(\"Mean: \"+ str(mean1))\n",
    "print(\"Median: \" + str(median1))"
   ]
  },
  {
   "cell_type": "markdown",
   "id": "42c0e8ef-324a-4ee9-805e-547699b3a540",
   "metadata": {},
   "source": [
    "b. Demonstrate and explain how removing outliers affects the mean, median, and standard deviation.\n",
    "- Removing outliers improves the accuracy of data. It normalizes it so that values are normally distributed rather than skewed."
   ]
  },
  {
   "cell_type": "code",
   "execution_count": 17,
   "id": "52335004-7130-4589-acfd-97a2e2d003bc",
   "metadata": {},
   "outputs": [
    {
     "name": "stdout",
     "output_type": "stream",
     "text": [
      "Dataset:  [8, 24, 27, 34, 36, 37, 38, 43, 50, 58, 59, 68, 84, 90, 92, 94, 250]\n",
      "Mean: 64.23529411764706\n",
      "Median: 50\n",
      "Standard Deviation: 54.35017181638516\n"
     ]
    }
   ],
   "source": [
    "data1 =  [8, 24, 27, 34, 36, 37, 38, 43, 50, 58, 59, 68, 84, 90, 92, 94, 250]\n",
    "\n",
    "import statistics\n",
    "import random\n",
    "\n",
    "mean1 = statistics.mean(data1)\n",
    "median1 = statistics.median(data1)\n",
    "stddev1 = statistics.stdev(data1)\n",
    "\n",
    "print(\"Dataset: \", sorted(data1))\n",
    "print(\"Mean: \"+ str(mean1))\n",
    "print(\"Median: \" + str(median1))\n",
    "print(\"Standard Deviation: \" + str(stddev1))"
   ]
  },
  {
   "cell_type": "markdown",
   "id": "60016f28-f95d-4229-8bb2-daebd7242e42",
   "metadata": {},
   "source": [
    "c. Using a boxplot and IQR logic, justify which values could be considered outliers.\n",
    "- Data shows me a large box with low position. If this were a BP, it means it's generally controlled but variable day to day."
   ]
  },
  {
   "cell_type": "code",
   "execution_count": 20,
   "id": "37efb9c4-1a84-45d7-8727-ef408d5d9246",
   "metadata": {},
   "outputs": [
    {
     "data": {
      "image/png": "[encoded data removed]",
      "text/plain": [
       "<Figure size 640x480 with 1 Axes>"
      ]
     },
     "metadata": {},
     "output_type": "display_data"
    },
    {
     "name": "stdout",
     "output_type": "stream",
     "text": [
      "Random Data: [8, 24, 27, 34, 36, 37, 38, 43, 50, 58, 59, 68, 84, 90, 92, 94, 99]\n",
      "Q1: 36.0 Q3: 84.0 IQR: 48.0\n"
     ]
    }
   ],
   "source": [
    "import matplotlib.pyplot as plt\n",
    "import numpy as np\n",
    "\n",
    "data1 =  [8, 24, 27, 34, 36, 37, 38, 43, 50, 58, 59, 68, 84, 90, 92, 94, 99]\n",
    "plt.boxplot(data1)\n",
    "plt.title(\"BoxPlot of Randomly Generated Numbers\")\n",
    "plt.ylabel(\"Value\")\n",
    "plt.grid(True)\n",
    "plt.show()\n",
    "\n",
    "q1_1 = np.percentile(data1, 25)\n",
    "q3_1 = np.percentile(data1, 75)\n",
    "iqr1 = q3_1 - q1_1\n",
    "print(\"Random Data:\", data1)\n",
    "print(\"Q1:\", q1_1, \"Q3:\", q3_1, \"IQR:\", iqr1)"
   ]
  },
  {
   "cell_type": "markdown",
   "id": "2711cd24-6928-4f0d-911f-0ec66c1ac56d",
   "metadata": {},
   "source": [
    "### Question 2\n",
    "\n",
    "Simulate a dataset of 50 values using a distribution of your choice (normal, exponential, or uniform).\n",
    "\n",
    "a. Compute the variance and standard deviation manually (not using built-in functions).  \n",
    "b. Confirm your answer using a library function.  "
   ]
  },
  {
   "cell_type": "code",
   "execution_count": 14,
   "id": "876d9a4e-53c2-4cb3-9641-3f00e5bca8f1",
   "metadata": {},
   "outputs": [
    {
     "name": "stdout",
     "output_type": "stream",
     "text": [
      "Dataset:  [3, 4, 6, 8, 10, 14, 15, 16, 20, 21, 23, 24, 25, 28, 30, 31, 35, 36, 39, 40, 44, 47, 49, 53, 56, 57, 58, 60, 62, 65, 67, 69, 70, 73, 76, 77, 78, 79, 80, 82, 83, 84, 85, 86, 87, 88, 96, 97, 98, 99]\n",
      "Manual Variance: 865.7391836734694\n",
      "Manual Standard Deviation: 29.423446155633595\n",
      "BIF Variance: 865.7391836734694\n",
      "BIF Standard Deviation: 29.423446155633595\n"
     ]
    }
   ],
   "source": [
    "import random\n",
    "\n",
    "data0 = list(range(1,100))\n",
    "data1 = random.sample(data0, 50)\n",
    "\n",
    "mean1 = sum(data1) / len(data1)\n",
    "squared_diffs = [(x - mean1) ** 2 for x in data1]\n",
    "variance1 = sum(squared_diffs) / (len(data1) - 1)\n",
    "std_dev1 = variance1 ** 0.5\n",
    "\n",
    "print(\"Dataset: \", sorted(data1))\n",
    "print(\"Manual Variance: \"+ str(variance1))\n",
    "print(\"Manual Standard Deviation: \" + str(std_dev1))\n",
    "\n",
    "import statistics\n",
    "variance2 = statistics.variance(data1)\n",
    "stddev2 = statistics.stdev(data1)\n",
    "\n",
    "print(\"BIF Variance: \"+ str(variance2))\n",
    "print(\"BIF Standard Deviation: \" + str(stddev2))"
   ]
  },
  {
   "cell_type": "markdown",
   "id": "b97aff55-70f6-488f-bba8-c20c6d21d0f9",
   "metadata": {},
   "source": [
    "### Question 3\n",
    "\n",
    "Generate three related variables (e.g., study hours, exam score, stress level) and insert a few synthetic outliers.\n",
    "\n",
    "a. Plot all three as scatterplots in pairs (X vs Y, Y vs Z, X vs Z).  \n",
    "b. Use Pearson correlation coefficients to assess linear relationships. "
   ]
  }
 ],
 "metadata": {
  "kernelspec": {
   "display_name": "Python 3 (ipykernel)",
   "language": "python",
   "name": "python3"
  },
  "language_info": {
   "codemirror_mode": {
    "name": "ipython",
    "version": 3
   },
   "file_extension": ".py",
   "mimetype": "text/x-python",
   "name": "python",
   "nbconvert_exporter": "python",
   "pygments_lexer": "ipython3",
   "version": "3.12.3"
  }
 },
 "nbformat": 4,
 "nbformat_minor": 5
}
