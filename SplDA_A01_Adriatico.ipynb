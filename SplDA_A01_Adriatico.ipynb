{
 "cells": [
  {
   "cell_type": "markdown",
   "id": "0e3c8d27",
   "metadata": {},
   "source": [
    "### Question 1 (5 marks)\n",
    "**Import the dataset** and display the first 5 rows to understand the structure and columns."
   ]
  },
  {
   "cell_type": "code",
   "execution_count": 1,
   "id": "1cef2d35",
   "metadata": {},
   "outputs": [
    {
     "data": {
      "text/html": [
       "<div>\n",
       "<style scoped>\n",
       "    .dataframe tbody tr th:only-of-type {\n",
       "        vertical-align: middle;\n",
       "    }\n",
       "\n",
       "    .dataframe tbody tr th {\n",
       "        vertical-align: top;\n",
       "    }\n",
       "\n",
       "    .dataframe thead th {\n",
       "        text-align: right;\n",
       "    }\n",
       "</style>\n",
       "<table border=\"1\" class=\"dataframe\">\n",
       "  <thead>\n",
       "    <tr style=\"text-align: right;\">\n",
       "      <th></th>\n",
       "      <th>Customer_ID</th>\n",
       "      <th>Age</th>\n",
       "      <th>Gender</th>\n",
       "      <th>Country</th>\n",
       "      <th>Marital_Status</th>\n",
       "      <th>Language_Preference</th>\n",
       "      <th>Signup_Source</th>\n",
       "      <th>Signup_Date</th>\n",
       "      <th>Last_Login</th>\n",
       "      <th>Total_Logins</th>\n",
       "      <th>...</th>\n",
       "      <th>Category_Tag_2</th>\n",
       "      <th>Category_Tag_3</th>\n",
       "      <th>Category_Tag_4</th>\n",
       "      <th>Category_Tag_5</th>\n",
       "      <th>Category_Tag_6</th>\n",
       "      <th>Category_Tag_7</th>\n",
       "      <th>Category_Tag_8</th>\n",
       "      <th>Category_Tag_9</th>\n",
       "      <th>Category_Tag_10</th>\n",
       "      <th>Total_Spend</th>\n",
       "    </tr>\n",
       "  </thead>\n",
       "  <tbody>\n",
       "    <tr>\n",
       "      <th>0</th>\n",
       "      <td>CUST_100000</td>\n",
       "      <td>56</td>\n",
       "      <td>Male</td>\n",
       "      <td>Australia</td>\n",
       "      <td>Married</td>\n",
       "      <td>DE</td>\n",
       "      <td>Email</td>\n",
       "      <td>2019-04-06</td>\n",
       "      <td>2024-01-19</td>\n",
       "      <td>79</td>\n",
       "      <td>...</td>\n",
       "      <td>Tag_4</td>\n",
       "      <td>Tag_1</td>\n",
       "      <td>Tag_5</td>\n",
       "      <td>Tag_2</td>\n",
       "      <td>Tag_3</td>\n",
       "      <td>Tag_2</td>\n",
       "      <td>Tag_5</td>\n",
       "      <td>Tag_2</td>\n",
       "      <td>Tag_1</td>\n",
       "      <td>735.68</td>\n",
       "    </tr>\n",
       "    <tr>\n",
       "      <th>1</th>\n",
       "      <td>CUST_100001</td>\n",
       "      <td>69</td>\n",
       "      <td>Female</td>\n",
       "      <td>India</td>\n",
       "      <td>Single</td>\n",
       "      <td>ES</td>\n",
       "      <td>Ad Campaign</td>\n",
       "      <td>2022-11-14</td>\n",
       "      <td>2025-03-13</td>\n",
       "      <td>71</td>\n",
       "      <td>...</td>\n",
       "      <td>Tag_1</td>\n",
       "      <td>Tag_1</td>\n",
       "      <td>Tag_3</td>\n",
       "      <td>Tag_3</td>\n",
       "      <td>Tag_3</td>\n",
       "      <td>Tag_4</td>\n",
       "      <td>Tag_1</td>\n",
       "      <td>Tag_1</td>\n",
       "      <td>Tag_1</td>\n",
       "      <td>587.46</td>\n",
       "    </tr>\n",
       "    <tr>\n",
       "      <th>2</th>\n",
       "      <td>CUST_100002</td>\n",
       "      <td>46</td>\n",
       "      <td>Prefer Not to Say</td>\n",
       "      <td>USA</td>\n",
       "      <td>Divorced</td>\n",
       "      <td>DE</td>\n",
       "      <td>Email</td>\n",
       "      <td>2019-04-19</td>\n",
       "      <td>2024-05-24</td>\n",
       "      <td>67</td>\n",
       "      <td>...</td>\n",
       "      <td>Tag_4</td>\n",
       "      <td>Tag_2</td>\n",
       "      <td>Tag_1</td>\n",
       "      <td>Tag_4</td>\n",
       "      <td>Tag_1</td>\n",
       "      <td>Tag_6</td>\n",
       "      <td>Tag_4</td>\n",
       "      <td>Tag_2</td>\n",
       "      <td>Tag_1</td>\n",
       "      <td>892.71</td>\n",
       "    </tr>\n",
       "    <tr>\n",
       "      <th>3</th>\n",
       "      <td>CUST_100003</td>\n",
       "      <td>32</td>\n",
       "      <td>Male</td>\n",
       "      <td>Australia</td>\n",
       "      <td>Married</td>\n",
       "      <td>ZH</td>\n",
       "      <td>Email</td>\n",
       "      <td>2019-11-16</td>\n",
       "      <td>2024-03-05</td>\n",
       "      <td>80</td>\n",
       "      <td>...</td>\n",
       "      <td>Tag_5</td>\n",
       "      <td>Tag_2</td>\n",
       "      <td>Tag_6</td>\n",
       "      <td>Tag_2</td>\n",
       "      <td>Tag_3</td>\n",
       "      <td>Tag_2</td>\n",
       "      <td>Tag_1</td>\n",
       "      <td>Tag_3</td>\n",
       "      <td>Tag_5</td>\n",
       "      <td>420.90</td>\n",
       "    </tr>\n",
       "    <tr>\n",
       "      <th>4</th>\n",
       "      <td>CUST_100004</td>\n",
       "      <td>60</td>\n",
       "      <td>Male</td>\n",
       "      <td>USA</td>\n",
       "      <td>Widowed</td>\n",
       "      <td>ZH</td>\n",
       "      <td>Organic Search</td>\n",
       "      <td>2020-11-26</td>\n",
       "      <td>2023-12-06</td>\n",
       "      <td>75</td>\n",
       "      <td>...</td>\n",
       "      <td>Tag_2</td>\n",
       "      <td>NaN</td>\n",
       "      <td>Tag_2</td>\n",
       "      <td>NaN</td>\n",
       "      <td>Tag_1</td>\n",
       "      <td>Tag_4</td>\n",
       "      <td>Tag_2</td>\n",
       "      <td>Tag_4</td>\n",
       "      <td>Tag_4</td>\n",
       "      <td>419.52</td>\n",
       "    </tr>\n",
       "  </tbody>\n",
       "</table>\n",
       "<p>5 rows × 38 columns</p>\n",
       "</div>"
      ],
      "text/plain": [
       "   Customer_ID  Age             Gender    Country Marital_Status  \\\n",
       "0  CUST_100000   56               Male  Australia        Married   \n",
       "1  CUST_100001   69             Female      India         Single   \n",
       "2  CUST_100002   46  Prefer Not to Say        USA       Divorced   \n",
       "3  CUST_100003   32               Male  Australia        Married   \n",
       "4  CUST_100004   60               Male        USA        Widowed   \n",
       "\n",
       "  Language_Preference   Signup_Source Signup_Date  Last_Login  Total_Logins  \\\n",
       "0                  DE           Email  2019-04-06  2024-01-19            79   \n",
       "1                  ES     Ad Campaign  2022-11-14  2025-03-13            71   \n",
       "2                  DE           Email  2019-04-19  2024-05-24            67   \n",
       "3                  ZH           Email  2019-11-16  2024-03-05            80   \n",
       "4                  ZH  Organic Search  2020-11-26  2023-12-06            75   \n",
       "\n",
       "   ...  Category_Tag_2 Category_Tag_3 Category_Tag_4  Category_Tag_5  \\\n",
       "0  ...           Tag_4          Tag_1          Tag_5           Tag_2   \n",
       "1  ...           Tag_1          Tag_1          Tag_3           Tag_3   \n",
       "2  ...           Tag_4          Tag_2          Tag_1           Tag_4   \n",
       "3  ...           Tag_5          Tag_2          Tag_6           Tag_2   \n",
       "4  ...           Tag_2            NaN          Tag_2             NaN   \n",
       "\n",
       "   Category_Tag_6  Category_Tag_7 Category_Tag_8 Category_Tag_9  \\\n",
       "0           Tag_3           Tag_2          Tag_5          Tag_2   \n",
       "1           Tag_3           Tag_4          Tag_1          Tag_1   \n",
       "2           Tag_1           Tag_6          Tag_4          Tag_2   \n",
       "3           Tag_3           Tag_2          Tag_1          Tag_3   \n",
       "4           Tag_1           Tag_4          Tag_2          Tag_4   \n",
       "\n",
       "   Category_Tag_10  Total_Spend  \n",
       "0            Tag_1       735.68  \n",
       "1            Tag_1       587.46  \n",
       "2            Tag_1       892.71  \n",
       "3            Tag_5       420.90  \n",
       "4            Tag_4       419.52  \n",
       "\n",
       "[5 rows x 38 columns]"
      ]
     },
     "execution_count": 1,
     "metadata": {},
     "output_type": "execute_result"
    }
   ],
   "source": [
    "import pandas as pd\n",
    "import numpy as py\n",
    "\n",
    "df = pd.read_csv(\"ecommerce_customer_data.csv\")\n",
    "df.head(5)"
   ]
  },
  {
   "cell_type": "markdown",
   "id": "c6d6ed12",
   "metadata": {},
   "source": [
    "### Question 2 (5 marks)\n",
    "**Generate a summary** of the dataset using `.info()` and `.describe()`. Also report the total number of missing values per column."
   ]
  },
  {
   "cell_type": "code",
   "execution_count": 7,
   "id": "28a65c62",
   "metadata": {},
   "outputs": [
    {
     "name": "stdout",
     "output_type": "stream",
     "text": [
      "<class 'pandas.core.frame.DataFrame'>\n",
      "RangeIndex: 5000 entries, 0 to 4999\n",
      "Data columns (total 38 columns):\n",
      " #   Column                       Non-Null Count  Dtype  \n",
      "---  ------                       --------------  -----  \n",
      " 0   Customer_ID                  5000 non-null   object \n",
      " 1   Age                          5000 non-null   int64  \n",
      " 2   Gender                       5000 non-null   object \n",
      " 3   Country                      5000 non-null   object \n",
      " 4   Marital_Status               5000 non-null   object \n",
      " 5   Language_Preference          5000 non-null   object \n",
      " 6   Signup_Source                5000 non-null   object \n",
      " 7   Signup_Date                  5000 non-null   object \n",
      " 8   Last_Login                   5000 non-null   object \n",
      " 9   Total_Logins                 5000 non-null   int64  \n",
      " 10  Time_Spent_Minutes           4700 non-null   float64\n",
      " 11  Device_Type                  5000 non-null   object \n",
      " 12  Preferred_Browser            5000 non-null   object \n",
      " 13  Is_Active                    5000 non-null   bool   \n",
      " 14  Total_Orders                 5000 non-null   int64  \n",
      " 15  Average_Order_Value          4650 non-null   float64\n",
      " 16  Payment_Method               5000 non-null   object \n",
      " 17  Last_Purchase_Date           5000 non-null   object \n",
      " 18  Has_Premium_Membership       5000 non-null   bool   \n",
      " 19  Abandoned_Carts              5000 non-null   int64  \n",
      " 20  Used_Discount_Code           3429 non-null   object \n",
      " 21  Campaign_Engagement_Level    3440 non-null   object \n",
      " 22  Support_Tickets_Raised       5000 non-null   int64  \n",
      " 23  Last_Support_Interaction     5000 non-null   object \n",
      " 24  Customer_Satisfaction_Score  5000 non-null   float64\n",
      " 25  Feedback_Comment_Length      5000 non-null   int64  \n",
      " 26  Submitted_Review             5000 non-null   bool   \n",
      " 27  Category_Tag_1               4700 non-null   object \n",
      " 28  Category_Tag_2               4700 non-null   object \n",
      " 29  Category_Tag_3               4700 non-null   object \n",
      " 30  Category_Tag_4               4700 non-null   object \n",
      " 31  Category_Tag_5               4700 non-null   object \n",
      " 32  Category_Tag_6               5000 non-null   object \n",
      " 33  Category_Tag_7               5000 non-null   object \n",
      " 34  Category_Tag_8               5000 non-null   object \n",
      " 35  Category_Tag_9               5000 non-null   object \n",
      " 36  Category_Tag_10              5000 non-null   object \n",
      " 37  Total_Spend                  4650 non-null   float64\n",
      "dtypes: bool(3), float64(4), int64(6), object(25)\n",
      "memory usage: 1.3+ MB\n"
     ]
    },
    {
     "data": {
      "text/plain": [
       "Customer_ID                       0\n",
       "Age                               0\n",
       "Gender                            0\n",
       "Country                           0\n",
       "Marital_Status                    0\n",
       "Language_Preference               0\n",
       "Signup_Source                     0\n",
       "Signup_Date                       0\n",
       "Last_Login                        0\n",
       "Total_Logins                      0\n",
       "Time_Spent_Minutes              300\n",
       "Device_Type                       0\n",
       "Preferred_Browser                 0\n",
       "Is_Active                         0\n",
       "Total_Orders                      0\n",
       "Average_Order_Value             350\n",
       "Payment_Method                    0\n",
       "Last_Purchase_Date                0\n",
       "Has_Premium_Membership            0\n",
       "Abandoned_Carts                   0\n",
       "Used_Discount_Code             1571\n",
       "Campaign_Engagement_Level      1560\n",
       "Support_Tickets_Raised            0\n",
       "Last_Support_Interaction          0\n",
       "Customer_Satisfaction_Score       0\n",
       "Feedback_Comment_Length           0\n",
       "Submitted_Review                  0\n",
       "Category_Tag_1                  300\n",
       "Category_Tag_2                  300\n",
       "Category_Tag_3                  300\n",
       "Category_Tag_4                  300\n",
       "Category_Tag_5                  300\n",
       "Category_Tag_6                    0\n",
       "Category_Tag_7                    0\n",
       "Category_Tag_8                    0\n",
       "Category_Tag_9                    0\n",
       "Category_Tag_10                   0\n",
       "Total_Spend                     350\n",
       "dtype: int64"
      ]
     },
     "execution_count": 7,
     "metadata": {},
     "output_type": "execute_result"
    }
   ],
   "source": [
    "df.info()\n",
    "df.describe()\n",
    "df.isnull().sum()"
   ]
  },
  {
   "cell_type": "code",
   "execution_count": 8,
   "id": "0569e9e1",
   "metadata": {},
   "outputs": [
    {
     "name": "stdout",
     "output_type": "stream",
     "text": [
      "                           Missing_Count Data_Type\n",
      "Average_Order_Value                  350   float64\n",
      "Total_Spend                          350   float64\n",
      "Time_Spent_Minutes                   300   float64\n",
      "Used_Discount_Code                  1571    object\n",
      "Campaign_Engagement_Level           1560    object\n",
      "Category_Tag_1                       300    object\n",
      "Category_Tag_2                       300    object\n",
      "Category_Tag_3                       300    object\n",
      "Category_Tag_4                       300    object\n",
      "Category_Tag_5                       300    object\n"
     ]
    }
   ],
   "source": [
    "# Show missing values with data types, sorted by data type then missing count\n",
    "missing_info = df.isnull().sum()[df.isnull().sum() > 0].to_frame('Missing_Count')\n",
    "missing_info['Data_Type'] = df.dtypes[missing_info.index]\n",
    "missing_info = missing_info.sort_values(['Data_Type', 'Missing_Count'], ascending=[True, False])\n",
    "print(missing_info)"
   ]
  },
  {
   "cell_type": "markdown",
   "id": "89c41b34",
   "metadata": {},
   "source": [
    "### Question 3 (5 marks)\n",
    "**Handle missing values**: Choose appropriate imputation strategies for numerical and categorical columns. Explain your method."
   ]
  },
  {
   "cell_type": "code",
   "execution_count": 9,
   "id": "627d459e",
   "metadata": {},
   "outputs": [],
   "source": [
    "# Get columns with missing values\n",
    "missing_cols = df.columns[df.isnull().sum() > 0]\n",
    "\n",
    "# Split by data type (only missing value columns)\n",
    "numcols = df.select_dtypes(include=['float64', 'int64', 'float32', 'int32']).columns.intersection(missing_cols).tolist()\n",
    "catcols = df.select_dtypes(include=['object']).columns.intersection(missing_cols).tolist()\n"
   ]
  },
  {
   "cell_type": "markdown",
   "id": "00db32f3",
   "metadata": {},
   "source": [
    "### Question 4 (5 marks)\n",
    "**Encode categorical variables** using suitable techniques (Label Encoding, One-Hot Encoding, etc.). Explain when and why you chose the method."
   ]
  },
  {
   "cell_type": "markdown",
   "id": "534f6a6b",
   "metadata": {},
   "source": [
    "### Question 5 (5 marks)\n",
    "**Detect and remove outliers** from key numerical features using IQR or Z-score. Show before/after comparisons."
   ]
  },
  {
   "cell_type": "markdown",
   "id": "97933d44",
   "metadata": {},
   "source": [
    "### Question 6 (5 marks)\n",
    "**Group the dataset** by `Country` and compute the average total spend and number of orders per country. Present it using a sorted table."
   ]
  },
  {
   "cell_type": "markdown",
   "id": "1a0e1911",
   "metadata": {},
   "source": [
    "### Question 7 (5 marks)\n",
    "**Create at least 2 new features** derived from existing columns (e.g., `Spend_per_Login`, `Days_Since_Last_Login`). Justify their potential usefulness."
   ]
  },
  {
   "cell_type": "markdown",
   "id": "221019ab",
   "metadata": {},
   "source": [
    "### Question 8 (5 marks)\n",
    "**Visualize the correlation matrix** for numerical columns using a heatmap. Identify at least two pairs of highly correlated variables and explain their relationship."
   ]
  },
  {
   "cell_type": "markdown",
   "id": "7b289d5c",
   "metadata": {},
   "source": [
    "### Question 9 (5 marks)\n",
    "**Plot the distribution** of key numerical features (e.g., `Total_Spend`, `Average_Order_Value`, `Age`). Identify skewness or anomalies."
   ]
  },
  {
   "cell_type": "markdown",
   "id": "b079c5f3",
   "metadata": {},
   "source": [
    "### Question 10 (5 marks)\n",
    "**Prepare a clustering-ready version** of the dataset by normalizing/standardizing the features and briefly describe what clustering task could be done."
   ]
  },
  {
   "cell_type": "markdown",
   "id": "48895c4d",
   "metadata": {},
   "source": [
    "### Extra\n",
    "**Save the cleaned and transformed dataset** to a new CSV file named `ecommerce_cleaned.csv`."
   ]
  },
  {
   "cell_type": "code",
   "execution_count": null,
   "id": "b899bf85",
   "metadata": {},
   "outputs": [],
   "source": [
    "# Save final cleaned dataset\n",
    "# df.to_csv('ecommerce_cleaned.csv', index=False)"
   ]
  }
 ],
 "metadata": {
  "kernelspec": {
   "display_name": "Python 3",
   "language": "python",
   "name": "python3"
  },
  "language_info": {
   "codemirror_mode": {
    "name": "ipython",
    "version": 3
   },
   "file_extension": ".py",
   "mimetype": "text/x-python",
   "name": "python",
   "nbconvert_exporter": "python",
   "pygments_lexer": "ipython3",
   "version": "3.12.1"
  }
 },
 "nbformat": 4,
 "nbformat_minor": 5
}
