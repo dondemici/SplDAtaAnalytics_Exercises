






### Question 1

a. Compute the mean and median. Which measure better represents the central tendency in this case? 
- For this dataset, mean is greater than median, which means that data is right skewed. Since data is not symmetrical, median is the better measure.
import statistics
import random

data0 = list(range(1,100))
data1 = random.sample(data0, 20)

mean1 = statistics.mean(data1)
median1 = statistics.median(data1)

print("Dataset: ", sorted(data1))
print("Mean: "+ str(mean1))
print("Median: " + str(median1))
Dataset:  [4, 8, 19, 24, 27, 34, 36, 37, 38, 43, 50, 58, 59, 68, 74, 84, 90, 92, 94, 99]
Mean: 51.9
Median: 46.5
b. Demonstrate and explain how removing outliers affects the mean, median, and standard deviation.

Removing outliers improves the accuracy of data. It normalizes it so that values are normally distributed rather than skewed.
data1 =  [8, 24, 27, 34, 36, 37, 38, 43, 50, 58, 59, 68, 84, 90, 92, 94, 250]

import statistics
import random

mean1 = statistics.mean(data1)
median1 = statistics.median(data1)
stddev1 = statistics.stdev(data1)

print("Dataset: ", sorted(data1))
print("Mean: "+ str(mean1))
print("Median: " + str(median1))
print("Standard Deviation: " + str(stddev1))
Dataset:  [8, 24, 27, 34, 36, 37, 38, 43, 50, 58, 59, 68, 84, 90, 92, 94, 250]
Mean: 64.23529411764706
Median: 50
Standard Deviation: 54.35017181638516
c. Using a boxplot and IQR logic, justify which values could be considered outliers.

Data shows me a large box with low position. If this were a BP, it means it's generally controlled but variable day to day.
import matplotlib.pyplot as plt
import numpy as np

data1 =  [8, 24, 27, 34, 36, 37, 38, 43, 50, 58, 59, 68, 84, 90, 92, 94, 99]
plt.boxplot(data1)
plt.title("BoxPlot of Randomly Generated Numbers")
plt.ylabel("Value")
plt.grid(True)
plt.show()

q1_1 = np.percentile(data1, 25)
q3_1 = np.percentile(data1, 75)
iqr1 = q3_1 - q1_1
print("Random Data:", data1)
print("Q1:", q1_1, "Q3:", q3_1, "IQR:", iqr1)

Random Data: [8, 24, 27, 34, 36, 37, 38, 43, 50, 58, 59, 68, 84, 90, 92, 94, 99]
Q1: 36.0 Q3: 84.0 IQR: 48.0
